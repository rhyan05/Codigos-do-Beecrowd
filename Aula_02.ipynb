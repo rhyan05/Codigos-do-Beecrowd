{
  "nbformat": 4,
  "nbformat_minor": 0,
  "metadata": {
    "colab": {
      "provenance": [],
      "toc_visible": true,
      "authorship_tag": "ABX9TyNaAURfh+/h5rKgE2AhEem6",
      "include_colab_link": true
    },
    "kernelspec": {
      "name": "python3",
      "display_name": "Python 3"
    },
    "language_info": {
      "name": "python"
    }
  },
  "cells": [
    {
      "cell_type": "markdown",
      "metadata": {
        "id": "view-in-github",
        "colab_type": "text"
      },
      "source": [
        "<a href=\"https://colab.research.google.com/github/rhyan05/Codigos-do-Beecrowd/blob/main/Aula_02.ipynb\" target=\"_parent\"><img src=\"https://colab.research.google.com/assets/colab-badge.svg\" alt=\"Open In Colab\"/></a>"
      ]
    },
    {
      "cell_type": "markdown",
      "source": [
        "Relogio"
      ],
      "metadata": {
        "id": "ijlrnZD4djWN"
      }
    },
    {
      "cell_type": "code",
      "source": [
        "from time import sleep\n",
        "h = 0\n",
        "m = 0\n",
        "s= 0\n",
        "while h != 23:\n",
        "  h+=1\n",
        "  m=0\n",
        "  while m != 60:\n",
        "    m+=1\n",
        "    s=0\n",
        "    while s != 60:\n",
        "      s+=1\n",
        "      print('%02d:%02d:%02d' % (h,m,s))\n",
        "      sleep(1)"
      ],
      "metadata": {
        "id": "fQ8OEng_eO5u"
      },
      "execution_count": null,
      "outputs": []
    },
    {
      "cell_type": "code",
      "source": [
        "from time import sleep\n",
        "#se eu quisece que ele reiniciasse, eu poderia colocar um while true\n",
        "while h < 24:\n",
        "  m = 0\n",
        "  while m < 60:\n",
        "    s = 0\n",
        "    while s < 60:\n",
        "      #print('%02d:%02d:%02d' % (h, m, s))\n",
        "      print(f'{h:02}:{m:02}:{s:02}')\n",
        "\n",
        "      s += 1\n",
        "      sleep(1) #ele e tipo um timer, a cada 1 segundo ele espera\n",
        "    m += 1\n",
        "  h += 1"
      ],
      "metadata": {
        "id": "qjIo47S_evyh"
      },
      "execution_count": null,
      "outputs": []
    },
    {
      "cell_type": "code",
      "source": [
        "from time import sleep\n",
        "\n",
        "while True:\n",
        "  for h in range(24):\n",
        "  #for h in range(22,24) -> inicia no 22 e termina no 24\n",
        "    for m in range(60):\n",
        "      for s in range(60):\n",
        "        print('%02d:%02d:%02d' % (h, m, s))\n",
        "        sleep(1)"
      ],
      "metadata": {
        "id": "JySFDI_dgrzI"
      },
      "execution_count": null,
      "outputs": []
    },
    {
      "cell_type": "code",
      "source": [
        "X = input(\"caracter: \")\n",
        "L = int(input('Linhas: '))\n",
        "C = int(input('Colunas: '))\n",
        "for i in range(L):\n",
        "  for j in range(C):\n",
        "    print(X, end='')\n",
        "  print()#pula linha"
      ],
      "metadata": {
        "id": "v3P9hQuiiugr"
      },
      "execution_count": null,
      "outputs": []
    },
    {
      "cell_type": "code",
      "source": [
        "def soma(x,y):\n",
        "  n = x+y\n",
        "  return n\n",
        "\n",
        "resp = soma(10,20)\n",
        "print(resp)"
      ],
      "metadata": {
        "id": "swzHGjwUlAga"
      },
      "execution_count": null,
      "outputs": []
    },
    {
      "cell_type": "markdown",
      "source": [
        "# Exercicios"
      ],
      "metadata": {
        "id": "czcro4HhuqRi"
      }
    },
    {
      "cell_type": "markdown",
      "source": [
        "Uma empresa quer premiar seus funcionários de acordo\n",
        "com o tempo de casa, isto é, a quantidade de anos\n",
        "que estão contratados, e por terem cumprido suas\n",
        "metas individuais. Para isso, a empresa construirá\n",
        "uma tabela com os nomes dos funcionários, salários,\n",
        "anos de empresa e um campo que contém um indicativo\n",
        "de que o funcionário cumpriu sua meta.\n",
        "\n",
        "A premiação será um bônus que corresponde ao próprio\n",
        "salário do funcionário acrescido de 5% por cada ano\n",
        "na empresa. Caso o funcionário tenha cumprido sua\n",
        "meta, terá mais 10% sobre o bônus já conquistado.\n",
        "\n",
        "1º) Seu programa deverá ler e armazenar os dados de\n",
        "    todos os funcionários;\n",
        "2º) Em seguida, deverá exibir a tabela com os dados\n",
        "    dos funcionários, seja criativo no formato da\n",
        "     tabela.\n",
        " 3º) Por fim, seu programa deverá exibir outra tabela\n",
        "    com o nome de cada funcionário com seu respectivo\n",
        "    bônus.\n",
        "\n",
        "Obs.(1): O registro de cada funcionário será dado\n",
        "         em uma única linha, com cada campo separado por um ';'.\n",
        "         \n",
        "Obs.(2): A entrada encerrará quando o usuário\n",
        "          pressionar [ENTER] sem digitar valores\n",
        "          na linha, isto é, será uma linha em branco."
      ],
      "metadata": {
        "id": "mULoZ34wu51u"
      }
    },
    {
      "cell_type": "code",
      "source": [
        "def coleta_func(): ##transformando os dados e os separando\n",
        "  entrada = input(\"dados: \")\n",
        "  if entrada != '':\n",
        "    funcionario = entrada.split(\";\")# separando\n",
        "    funcionario[1]=float(funcionario[1])#transforamdno\n",
        "    funcionario[2]=int(funcionario[2])\n",
        "    if funcionario[3].lower()==\"sim\":\n",
        "      funcionario [3] == True\n",
        "    else:\n",
        "      funcionario[3] == False\n",
        "    return funcionario\n",
        "  else:\n",
        "    print(\"nao e um funcionario\")\n",
        "    return None\n",
        "\n",
        "def exibe_func(list):\n",
        "  for funcioanrio in list:\n",
        "    print(f\"{funcionario[0]:16} | \" +\n",
        "          f\"R${funcionario[1]:8.2f} | \"+#8-> o maximo que ele pode ter de digito, na vdd vai ser aodne tera o |, e o 2f e o padrao, apenas 2 casas decimais\n",
        "          f\"{funcionario[2]:02} | \", end=\"\")\n",
        "    if funcionario[3] == True: #if funcionario[3]: -> os dois modos estaram certo, ja que se eu coloquei la em cima se for true, aqui em baixo ele vai apssar ja que o if so aceita TRUe\n",
        "      print(\"😀\")\n",
        "    else:\n",
        "      print(\"😥\")\n",
        "\n",
        "def exibe_bonus(bonus):\n",
        "  for registro in bonus:\n",
        "    print(registro)\n",
        "\n",
        "\n",
        "list = []\n",
        "#nome = funcionario[0]\n",
        "funcionario = coleta_func()\n",
        "\n",
        "while funcionario != None:\n",
        "  list.append(funcionario)\n",
        "  funcionario = coleta_func()\n",
        "\n",
        "exibe_func(list)\n",
        "bonus = []\n",
        "\n",
        "for funcionario in list:\n",
        "  valor = funcionario[0]+0.05*funcionario[2]\n",
        "  if funcionario[3]:\n",
        "    valor = 1.10*valor\n",
        "  bonus.append([funcionario],valor)\n",
        "exibe_bonus(bonus)\n",
        "\n"
      ],
      "metadata": {
        "id": "YR1Wsoyhu6w2"
      },
      "execution_count": null,
      "outputs": []
    },
    {
      "cell_type": "code",
      "source": [
        "#codigo do prof\n",
        "def coleta_funcionario():\n",
        "    entrada = input('Dados? ')\n",
        "    if entrada != '':\n",
        "        funcionario = entrada.split(';')\n",
        "        funcionario[1] = float(funcionario[1])\n",
        "        funcionario[2] = int(funcionario[2])\n",
        "        if funcionario[3].lower() == 'sim':\n",
        "            funcionario[3] = True\n",
        "        else:\n",
        "            funcionario[3] = False\n",
        "        return funcionario\n",
        "    else:\n",
        "        return None\n",
        "def exibe_funcionarios(funcionarios):\n",
        "  print(\"-\"*39)\n",
        "  print(f\"{\"nome\":^16} | {\"salario\":^16} | TEMPO | META\")\n",
        "  print(\"-\"*39)\n",
        "\n",
        "    for funcionario in funcionarios:\n",
        "        print(f'{funcionario[0]:16} | ' +\n",
        "              f'R$ {funcionario[1]:8.2f} | ' +\n",
        "              f'{funcionario[2]:05} | ', end='')\n",
        "        if funcionario[3]:\n",
        "            print(f'{\"😀\":^4}')\n",
        "        else:\n",
        "            print(f'{\"😥\":^4}')\n",
        "\n",
        "\n",
        "funcionarios = []\n",
        "funcionario = coleta_funcionario()\n",
        "while funcionario != None:\n",
        "    funcionarios.append(funcionario)\n",
        "    funcionario = coleta_funcionario()\n",
        "\n",
        "exibe_funcionarios(funcionarios)\n",
        "\n",
        "bonus = []\n",
        "\n",
        "for funcionario in list:\n",
        "  valor = funcionario[0]+0.05*funcionario[2]"
      ],
      "metadata": {
        "id": "QBBvYzzD9Asu"
      },
      "execution_count": null,
      "outputs": []
    }
  ]
}