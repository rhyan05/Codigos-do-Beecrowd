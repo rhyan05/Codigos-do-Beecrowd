{
  "nbformat": 4,
  "nbformat_minor": 0,
  "metadata": {
    "colab": {
      "provenance": [],
      "authorship_tag": "ABX9TyMIPSKdbSaJVM224K14MMAo",
      "include_colab_link": true
    },
    "kernelspec": {
      "name": "python3",
      "display_name": "Python 3"
    },
    "language_info": {
      "name": "python"
    }
  },
  "cells": [
    {
      "cell_type": "markdown",
      "metadata": {
        "id": "view-in-github",
        "colab_type": "text"
      },
      "source": [
        "<a href=\"https://colab.research.google.com/github/rhyan05/Codigos-do-Beecrowd/blob/main/Cod_1.ipynb\" target=\"_parent\"><img src=\"https://colab.research.google.com/assets/colab-badge.svg\" alt=\"Open In Colab\"/></a>"
      ]
    },
    {
      "cell_type": "markdown",
      "source": [
        "#Cod Ale"
      ],
      "metadata": {
        "id": "2iRs-6lJh7fX"
      }
    },
    {
      "cell_type": "code",
      "execution_count": null,
      "metadata": {
        "id": "Teut7RrbdgU3"
      },
      "outputs": [],
      "source": [
        "preco = float(input('Preço do produto: '))\n",
        "qtd = int(input('Quantidade: '))\n",
        "total = preco * qtd\n",
        "if total > 200.00:\n",
        "  opcao = input('Desconto [D] ou parcelamento [P]: ')\n",
        "  if opcao=='D':\n",
        "      desc = 0.05*total\n",
        "      total -= desc\n",
        "      print('Desconto de R$ %.2f' % desc)\n",
        "  else:\n",
        "    print('4 parcelas de R$ %.2f' % (total/4))\n",
        "\n",
        "print('Total: R$ %.2f' % total)"
      ]
    },
    {
      "cell_type": "markdown",
      "source": [
        "#Codigo"
      ],
      "metadata": {
        "id": "yQLqaerSh4j6"
      }
    },
    {
      "cell_type": "markdown",
      "source": [
        "Questao\n",
        "2025 tem: 20 + 25 = 45 e 45 × 45 = 2025\n",
        "1063 tem: 10 + 63 = 73 e 73 × 73 ≠ 1063\n",
        "\n",
        "Dado um número inteiro positivo 𝑛 de quatro\n",
        "dígitos, verificar se 𝑛 é um número cuja raiz\n",
        "quadrada é formada pela soma de suas dezenas.\n",
        "Exibir 'sim' ou 'não'. Não use o operador de\n",
        "potência, nem funções (use apenas input, print\n",
        "e int)."
      ],
      "metadata": {
        "id": "9jQ_7WEUe_hO"
      }
    },
    {
      "cell_type": "code",
      "source": [
        "n1 = int(input((\"numero: \")))\n",
        "\n",
        "n2 = n1 //100\n",
        "n3 = n1 % 100\n",
        "\n",
        "if (n2+n3)*(n2+n3) == n1:\n",
        "  print('sim')\n",
        "else:\n",
        "  print('nao')\n"
      ],
      "metadata": {
        "id": "y5JMIySqfHDe"
      },
      "execution_count": null,
      "outputs": []
    },
    {
      "cell_type": "markdown",
      "source": [
        "2) Fornecidos os três segmentos de reta\n",
        "𝑎, 𝑏 e 𝑐 (𝑎 > 0, 𝑏 > 0 e 𝑐 > 0), verificar se\n",
        "podem formar um triângulo. Exibir a mensagem\n",
        "'formam' ou 'não formam', conforme o caso.\n",
        "\n",
        "Condição de existência de triângulo:\n",
        "\n",
        "\"Todo lado deve ser menor do que a soma dos\n",
        " outros dois lados.\"\n"
      ],
      "metadata": {
        "id": "EKdrL1dyq0Ug"
      }
    },
    {
      "cell_type": "code",
      "source": [
        "a = float(input())\n",
        "b = float(input())\n",
        "c = float(input())\n",
        "\n",
        "if a<b+c and b<a+c and c<a+b:\n",
        "  print(\"forma\")\n",
        "else:\n",
        "  print(\"nao forma\")"
      ],
      "metadata": {
        "id": "7y6VvbHoq19D"
      },
      "execution_count": null,
      "outputs": []
    },
    {
      "cell_type": "markdown",
      "source": [
        "Dado um inteiro 𝑛, exibir o dia da semana\n",
        "correspondente (domingo = 1 e sábado = 7) ou\n",
        "'dia inválido'.\n"
      ],
      "metadata": {
        "id": "L-IZ_Hgeve9Q"
      }
    },
    {
      "cell_type": "code",
      "source": [
        "num = int(input(\"Digite o dia da semana\"))\n",
        "\n",
        "if num == 1:\n",
        "  print(\"domingo\")\n",
        "elif num == 2:\n",
        "  print(\"segunda\")\n",
        "elif num == 3:\n",
        "  print(\"terça\")\n",
        "elif num == 4:\n",
        "  print(\"quarta\")\n",
        "elif num == 5:\n",
        "  print(\"quinta\")\n",
        "elif num == 6:\n",
        "  print(\"sexta\")\n",
        "elif num == 7:\n",
        "  print(\"sabado\")\n",
        "else:\n",
        "  print(\"dia inválido\")"
      ],
      "metadata": {
        "id": "SKuE2kzvvelw"
      },
      "execution_count": null,
      "outputs": []
    },
    {
      "cell_type": "markdown",
      "source": [
        "Fornecidos os três segmentos de reta\n",
        "𝑎, 𝑏 e 𝑐 que formam um triangulo, exibir uma\n",
        "mensagem indicando qual o tipo de triangulo\n",
        "que será formado (equilátero, isósceles ou\n",
        "escaleno)."
      ],
      "metadata": {
        "id": "m7_DfRMTvndZ"
      }
    },
    {
      "cell_type": "code",
      "source": [
        "a = float(input())\n",
        "b = float(input())\n",
        "c = float(input())\n",
        "\n",
        "if (a==b and b==c and a==c):\n",
        "  print(\"equilatero\")\n",
        "elif (a==b and (a!=c or b!=c)) or (a==c and (a!=b or c!=b)) or (c==b and (c!=a or b!=a)):\n",
        "  print(\"isoceles\")\n",
        "elif (a!=c and b!=c and a!=b):\n",
        "  print(\"equilatero\")"
      ],
      "metadata": {
        "id": "Ek2EfUv_voPI"
      },
      "execution_count": null,
      "outputs": []
    },
    {
      "cell_type": "markdown",
      "source": [
        " Fornecidas duas datas distintas, exibir\n",
        "qual delas ocorre primeiro. Cada data será\n",
        "fornecida em três valores inteiros, onde o\n",
        "primeiro representa o dia, o segundo o mês\n",
        "e o terceiro o ano.\n",
        "Exemplo: 1ª data -> 10/05/2020\n",
        "         2ª data -> 15/02/2020\n",
        "         Exibirá -> 15/02/2020\n",
        "\n",
        "```\n",
        "# Isto está formatado como código\n",
        "```\n",
        "\n"
      ],
      "metadata": {
        "id": "9Cy5j8DSyNAn"
      }
    },
    {
      "cell_type": "code",
      "source": [
        "dia1, mes1, ano1 = map(int, input(\"Digite a primeira data (dia mês ano): \").split())\n",
        "dia2, mes2, ano2 = map(int, input(\"Digite a segunda data (dia mês ano): \").split())\n",
        "\n",
        "# Comparando as datas e exibindo a data que ocorre primeiro\n",
        "if ano1 < ano2:\n",
        "    print(f\"{dia1}/{mes1}/{ano1}\")\n",
        "elif ano2 < ano1:\n",
        "    print(f\"{dia2}/{mes2}/{ano2}\")\n",
        "else:  # Se os anos forem iguais, verifica os meses\n",
        "    if mes1 < mes2:\n",
        "        print(f\"{dia1}/{mes1}/{ano1}\")\n",
        "    elif mes2 < mes1:\n",
        "        print(f\"{dia2}/{mes2}/{ano2}\")\n",
        "    else:  # Se os meses também forem iguais, verifica os dias\n",
        "        if dia1 < dia2:\n",
        "            print(f\"{dia1}/{mes1}/{ano1}\")\n",
        "        else:\n",
        "            print(f\"{dia2}/{mes2}/{ano2}\")"
      ],
      "metadata": {
        "id": "mHxE1ITvyTxZ"
      },
      "execution_count": null,
      "outputs": []
    },
    {
      "cell_type": "markdown",
      "source": [
        "6) Crie um programa que solicite ao usuário diversas\n",
        "\n",
        "---\n",
        "\n",
        "idades (em anos completos) e, ao final, exiba a média das idades. O programa deverá encerrar a solicitação de entradas quando o usuário digitar -1, que não deverá ser contabilizado na média."
      ],
      "metadata": {
        "id": "A1nMGjPF6v7E"
      }
    },
    {
      "cell_type": "code",
      "source": [
        "n1 = []\n",
        "n2 = int(input())\n",
        "n1.append(n2)\n",
        "while n2 >=0:\n",
        "  n2 = int(input())\n",
        "  if n2<=0:\n",
        "    break\n",
        "  n1.append(n2)\n",
        "\n",
        "media = sum(n1)/len(n1)\n",
        "\n",
        "print(media)"
      ],
      "metadata": {
        "id": "MN3Metsg74ag"
      },
      "execution_count": null,
      "outputs": []
    }
  ]
}